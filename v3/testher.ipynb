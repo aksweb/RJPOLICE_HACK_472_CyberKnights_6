{
 "cells": [
  {
   "cell_type": "code",
   "execution_count": 2,
   "metadata": {},
   "outputs": [
    {
     "name": "stdout",
     "output_type": "stream",
     "text": [
      "Defaulting to user installation because normal site-packages is not writeable\n",
      "Requirement already satisfied: yolov7-package in c:\\users\\abhishekh\\appdata\\roaming\\python\\python39\\site-packages (0.0.12)\n",
      "Requirement already satisfied: torch in c:\\users\\abhishekh\\appdata\\roaming\\python\\python39\\site-packages (from yolov7-package) (2.1.2)\n",
      "Requirement already satisfied: torchvision in c:\\users\\abhishekh\\appdata\\roaming\\python\\python39\\site-packages (from yolov7-package) (0.16.2)\n",
      "Requirement already satisfied: opencv-python in c:\\users\\abhishekh\\appdata\\roaming\\python\\python39\\site-packages (from yolov7-package) (4.8.1.78)\n",
      "Requirement already satisfied: requests in c:\\users\\abhishekh\\appdata\\roaming\\python\\python39\\site-packages (from yolov7-package) (2.21.0)\n",
      "Requirement already satisfied: tqdm in c:\\programdata\\anaconda3\\lib\\site-packages (from yolov7-package) (4.64.0)\n",
      "Requirement already satisfied: wget in c:\\users\\abhishekh\\appdata\\roaming\\python\\python39\\site-packages (from yolov7-package) (3.2)\n",
      "Requirement already satisfied: pyyaml in c:\\programdata\\anaconda3\\lib\\site-packages (from yolov7-package) (6.0)\n",
      "Requirement already satisfied: numpy>=1.19.3 in c:\\users\\abhishekh\\appdata\\roaming\\python\\python39\\site-packages (from opencv-python->yolov7-package) (1.22.0)\n",
      "Requirement already satisfied: certifi>=2017.4.17 in c:\\programdata\\anaconda3\\lib\\site-packages (from requests->yolov7-package) (2021.10.8)\n",
      "Requirement already satisfied: idna<2.9,>=2.5 in c:\\users\\abhishekh\\appdata\\roaming\\python\\python39\\site-packages (from requests->yolov7-package) (2.8)\n",
      "Requirement already satisfied: urllib3<1.25,>=1.21.1 in c:\\users\\abhishekh\\appdata\\roaming\\python\\python39\\site-packages (from requests->yolov7-package) (1.24.3)\n",
      "Requirement already satisfied: chardet<3.1.0,>=3.0.2 in c:\\users\\abhishekh\\appdata\\roaming\\python\\python39\\site-packages (from requests->yolov7-package) (3.0.4)\n",
      "Requirement already satisfied: typing-extensions in c:\\programdata\\anaconda3\\lib\\site-packages (from torch->yolov7-package) (4.1.1)\n",
      "Requirement already satisfied: sympy in c:\\programdata\\anaconda3\\lib\\site-packages (from torch->yolov7-package) (1.10.1)\n",
      "Requirement already satisfied: networkx in c:\\programdata\\anaconda3\\lib\\site-packages (from torch->yolov7-package) (2.7.1)\n",
      "Requirement already satisfied: filelock in c:\\programdata\\anaconda3\\lib\\site-packages (from torch->yolov7-package) (3.6.0)\n",
      "Requirement already satisfied: jinja2 in c:\\users\\abhishekh\\appdata\\roaming\\python\\python39\\site-packages (from torch->yolov7-package) (2.11.1)\n",
      "Requirement already satisfied: fsspec in c:\\programdata\\anaconda3\\lib\\site-packages (from torch->yolov7-package) (2022.2.0)\n",
      "Requirement already satisfied: MarkupSafe>=0.23 in c:\\programdata\\anaconda3\\lib\\site-packages (from jinja2->torch->yolov7-package) (2.0.1)\n",
      "Requirement already satisfied: mpmath>=0.19 in c:\\programdata\\anaconda3\\lib\\site-packages (from sympy->torch->yolov7-package) (1.2.1)\n",
      "Requirement already satisfied: pillow!=8.3.*,>=5.3.0 in c:\\programdata\\anaconda3\\lib\\site-packages (from torchvision->yolov7-package) (9.0.1)\n",
      "Requirement already satisfied: colorama in c:\\programdata\\anaconda3\\lib\\site-packages (from tqdm->yolov7-package) (0.4.4)\n"
     ]
    }
   ],
   "source": [
    "!pip install yolov7-package\n"
   ]
  },
  {
   "cell_type": "code",
   "execution_count": 3,
   "metadata": {},
   "outputs": [
    {
     "name": "stdout",
     "output_type": "stream",
     "text": [
      "Defaulting to user installation because normal site-packages is not writeable\n",
      "Requirement already satisfied: opencv-python in c:\\users\\abhishekh\\appdata\\roaming\\python\\python39\\site-packages (4.8.1.78)\n",
      "Requirement already satisfied: numpy>=1.19.3 in c:\\users\\abhishekh\\appdata\\roaming\\python\\python39\\site-packages (from opencv-python) (1.22.0)\n"
     ]
    }
   ],
   "source": [
    "!pip install opencv-python\n"
   ]
  },
  {
   "cell_type": "code",
   "execution_count": 6,
   "metadata": {},
   "outputs": [
    {
     "name": "stdout",
     "output_type": "stream",
     "text": [
      "Fusing layers... \n"
     ]
    },
    {
     "name": "stderr",
     "output_type": "stream",
     "text": [
      "C:\\Users\\Abhishekh\\AppData\\Roaming\\Python\\Python39\\site-packages\\torch\\functional.py:504: UserWarning: torch.meshgrid: in an upcoming release, it will be required to pass the indexing argument. (Triggered internally at C:\\actions-runner\\_work\\pytorch\\pytorch\\builder\\windows\\pytorch\\aten\\src\\ATen\\native\\TensorShape.cpp:3527.)\n",
      "  return _VF.meshgrid(tensors, **kwargs)  # type: ignore[attr-defined]\n"
     ]
    }
   ],
   "source": [
    "from yolov7_package import Yolov7Detector\n",
    "import cv2\n",
    "\n",
    "def process_ip_camera(camera_url):\n",
    "    # Create a YOLOv7 detector instance\n",
    "    det = Yolov7Detector()\n",
    "\n",
    "    # Open the video stream from the IP camera\n",
    "    cap = cv2.VideoCapture(camera_url)\n",
    "\n",
    "    # Check if the camera opened successfully\n",
    "    if not cap.isOpened():\n",
    "        print(\"Error: Could not open camera.\")\n",
    "        exit()\n",
    "\n",
    "    while True:\n",
    "        # Read a frame from the video stream\n",
    "        ret, frame = cap.read()\n",
    "        if not ret:\n",
    "            break\n",
    "\n",
    "        # Resize the frame to a smaller size for faster processing\n",
    "        frame = cv2.resize(frame, (640, 480))\n",
    "\n",
    "        # Perform object detection on the frame\n",
    "        classes, boxes, scores = det.detect(frame)\n",
    "\n",
    "        # Draw bounding boxes on the frame\n",
    "        frame = det.draw_on_image(frame, boxes[0], scores[0], classes[0])\n",
    "\n",
    "        # Display the frame with bounding boxes\n",
    "        cv2.imshow(\"IP Camera Feed\", frame)\n",
    "\n",
    "        # Break the loop if 'q' is pressed\n",
    "        if cv2.waitKey(1) & 0xFF == ord('q'):\n",
    "            break\n",
    "\n",
    "    # Release the video capture object\n",
    "    cap.release()\n",
    "\n",
    "    # Destroy all OpenCV windows\n",
    "    cv2.destroyAllWindows()\n",
    "\n",
    "if __name__ == '__main__':\n",
    "    # Replace 'your_username' and 'your_password' with the actual credentials of your IP camera\n",
    "    camera_username = 'asdf'\n",
    "    camera_password = 'fdsa'\n",
    "\n",
    "    # Replace 'your_camera_ip' with the actual IP address of your camera\n",
    "    camera_ip = '192.168.28.93:8080/'\n",
    "\n",
    "    # Construct the camera URL with authentication\n",
    "    camera_url = f'http://{camera_username}:{camera_password}@{camera_ip}/video'\n",
    "\n",
    "    # Process the video stream from the IP camera\n",
    "    process_ip_camera(camera_url)\n",
    "\n",
    "    # Wait for any key to be pressed before exiting\n",
    "    cv2.waitKey(0)\n"
   ]
  }
 ],
 "metadata": {
  "kernelspec": {
   "display_name": "Python 3",
   "language": "python",
   "name": "python3"
  },
  "language_info": {
   "codemirror_mode": {
    "name": "ipython",
    "version": 3
   },
   "file_extension": ".py",
   "mimetype": "text/x-python",
   "name": "python",
   "nbconvert_exporter": "python",
   "pygments_lexer": "ipython3",
   "version": "3.9.12"
  }
 },
 "nbformat": 4,
 "nbformat_minor": 2
}
